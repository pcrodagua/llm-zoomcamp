{
 "cells": [
  {
   "cell_type": "code",
   "execution_count": 1,
   "id": "f9cb08e1-106f-4d34-843c-a33826bddb10",
   "metadata": {},
   "outputs": [
    {
     "name": "stdout",
     "output_type": "stream",
     "text": [
      "Requirement already satisfied: minsearch in /opt/conda/envs/llm/lib/python3.12/site-packages (0.0.5)\n",
      "Requirement already satisfied: numpy in /home/codespace/.local/lib/python3.12/site-packages (from minsearch) (2.3.1)\n",
      "Requirement already satisfied: pandas in /home/codespace/.local/lib/python3.12/site-packages (from minsearch) (2.3.1)\n",
      "Requirement already satisfied: scikit-learn in /home/codespace/.local/lib/python3.12/site-packages (from minsearch) (1.7.0)\n",
      "Requirement already satisfied: python-dateutil>=2.8.2 in /home/codespace/.local/lib/python3.12/site-packages (from pandas->minsearch) (2.9.0.post0)\n",
      "Requirement already satisfied: pytz>=2020.1 in /home/codespace/.local/lib/python3.12/site-packages (from pandas->minsearch) (2025.2)\n",
      "Requirement already satisfied: tzdata>=2022.7 in /home/codespace/.local/lib/python3.12/site-packages (from pandas->minsearch) (2025.2)\n",
      "Requirement already satisfied: six>=1.5 in /home/codespace/.local/lib/python3.12/site-packages (from python-dateutil>=2.8.2->pandas->minsearch) (1.17.0)\n",
      "Requirement already satisfied: scipy>=1.8.0 in /home/codespace/.local/lib/python3.12/site-packages (from scikit-learn->minsearch) (1.16.0)\n",
      "Requirement already satisfied: joblib>=1.2.0 in /home/codespace/.local/lib/python3.12/site-packages (from scikit-learn->minsearch) (1.5.1)\n",
      "Requirement already satisfied: threadpoolctl>=3.1.0 in /home/codespace/.local/lib/python3.12/site-packages (from scikit-learn->minsearch) (3.6.0)\n"
     ]
    }
   ],
   "source": [
    "!pip install minsearch"
   ]
  },
  {
   "cell_type": "code",
   "execution_count": 2,
   "id": "aff43805-26a0-43be-a198-f391a8eafdcc",
   "metadata": {},
   "outputs": [],
   "source": [
    "import minsearch\n",
    "import json\n",
    "import requests"
   ]
  },
  {
   "cell_type": "code",
   "execution_count": 3,
   "id": "5b4eae9a-5dfd-4f80-bf38-766269056885",
   "metadata": {},
   "outputs": [],
   "source": [
    "docs_url = 'https://github.com/alexeygrigorev/llm-rag-workshop/raw/main/notebooks/documents.json'\n",
    "docs_response = requests.get(docs_url)\n",
    "documents_raw = docs_response.json()"
   ]
  },
  {
   "cell_type": "code",
   "execution_count": 4,
   "id": "03accd9e-c650-4a4a-ac83-f3bd80ab43b7",
   "metadata": {},
   "outputs": [],
   "source": [
    "documents = []\n",
    "\n",
    "for course_dict in docs_raw:\n",
    "    for doc in course_dict['documents']:\n",
    "        doc['course'] = course_dict['course']\n",
    "        documents.append(doc)"
   ]
  },
  {
   "cell_type": "code",
   "execution_count": 5,
   "id": "858c0588-4bdd-4f4c-b802-65784e80984d",
   "metadata": {},
   "outputs": [
    {
     "data": {
      "text/plain": [
       "{'text': \"The purpose of this document is to capture frequently asked technical questions\\nThe exact day and hour of the course will be 15th Jan 2024 at 17h00. The course will start with the first  “Office Hours'' live.1\\nSubscribe to course public Google Calendar (it works from Desktop only).\\nRegister before the course starts using this link.\\nJoin the course Telegram channel with announcements.\\nDon’t forget to register in DataTalks.Club's Slack and join the channel.\",\n",
       " 'section': 'General course-related questions',\n",
       " 'question': 'Course - When will the course start?',\n",
       " 'course': 'data-engineering-zoomcamp'}"
      ]
     },
     "execution_count": 5,
     "metadata": {},
     "output_type": "execute_result"
    }
   ],
   "source": [
    "documents[0]"
   ]
  },
  {
   "cell_type": "code",
   "execution_count": 6,
   "id": "1e17aecb-0a27-4c9f-88f0-2648cf0ec9de",
   "metadata": {},
   "outputs": [
    {
     "data": {
      "text/plain": [
       "<minsearch.minsearch.Index at 0x7187f2777f20>"
      ]
     },
     "execution_count": 6,
     "metadata": {},
     "output_type": "execute_result"
    }
   ],
   "source": [
    "index = minsearch.Index(\n",
    "    text_fields=[\"question\", \"text\", \"section\"],\n",
    "    keyword_fields=[\"course\"]\n",
    ")\n",
    "index.fit(documents)"
   ]
  },
  {
   "cell_type": "code",
   "execution_count": 7,
   "id": "67722c49-6be1-435a-bf5d-88b363abc9bb",
   "metadata": {},
   "outputs": [],
   "source": [
    "## example query\n",
    "q = \"the course has already started, can I still enroll?\""
   ]
  },
  {
   "cell_type": "code",
   "execution_count": 8,
   "id": "6f19a170-40b3-4470-b5dd-c4f5eeb91c3f",
   "metadata": {},
   "outputs": [
    {
     "data": {
      "text/plain": [
       "[{'text': \"Yes, even if you don't register, you're still eligible to submit the homeworks.\\nBe aware, however, that there will be deadlines for turning in the final projects. So don't leave everything for the last minute.\",\n",
       "  'section': 'General course-related questions',\n",
       "  'question': 'Course - Can I still join the course after the start date?',\n",
       "  'course': 'data-engineering-zoomcamp'},\n",
       " {'text': 'Yes, we will keep all the materials after the course finishes, so you can follow the course at your own pace after it finishes.\\nYou can also continue looking at the homeworks and continue preparing for the next cohort. I guess you can also start working on your final capstone project.',\n",
       "  'section': 'General course-related questions',\n",
       "  'question': 'Course - Can I follow the course after it finishes?',\n",
       "  'course': 'data-engineering-zoomcamp'},\n",
       " {'text': \"The purpose of this document is to capture frequently asked technical questions\\nThe exact day and hour of the course will be 15th Jan 2024 at 17h00. The course will start with the first  “Office Hours'' live.1\\nSubscribe to course public Google Calendar (it works from Desktop only).\\nRegister before the course starts using this link.\\nJoin the course Telegram channel with announcements.\\nDon’t forget to register in DataTalks.Club's Slack and join the channel.\",\n",
       "  'section': 'General course-related questions',\n",
       "  'question': 'Course - When will the course start?',\n",
       "  'course': 'data-engineering-zoomcamp'},\n",
       " {'text': 'You can start by installing and setting up all the dependencies and requirements:\\nGoogle cloud account\\nGoogle Cloud SDK\\nPython 3 (installed with Anaconda)\\nTerraform\\nGit\\nLook over the prerequisites and syllabus to see if you are comfortable with these subjects.',\n",
       "  'section': 'General course-related questions',\n",
       "  'question': 'Course - What can I do before the course starts?',\n",
       "  'course': 'data-engineering-zoomcamp'},\n",
       " {'text': 'Yes, the slack channel remains open and you can ask questions there. But always sDocker containers exit code w search the channel first and second, check the FAQ (this document), most likely all your questions are already answered here.\\nYou can also tag the bot @ZoomcampQABot to help you conduct the search, but don’t rely on its answers 100%, it is pretty good though.',\n",
       "  'section': 'General course-related questions',\n",
       "  'question': 'Course - Can I get support if I take the course in the self-paced mode?',\n",
       "  'course': 'data-engineering-zoomcamp'}]"
      ]
     },
     "execution_count": 8,
     "metadata": {},
     "output_type": "execute_result"
    }
   ],
   "source": [
    "boost = {\"question\": 3.0, \"section\": 0.5} # means the question field is more importan than the text from section\n",
    "filter_ = {\"course\": \"data-engineering-zoomcamp\"}\n",
    "index.search(query=q, filter_dict=filter_, boost_dict=boost, num_results=5)"
   ]
  },
  {
   "cell_type": "code",
   "execution_count": 9,
   "id": "0b16b644-78b2-453e-bdcf-df452258c1fa",
   "metadata": {},
   "outputs": [],
   "source": [
    "from openai import OpenAI"
   ]
  },
  {
   "cell_type": "code",
   "execution_count": 13,
   "id": "49b9326c-57b1-4c1a-8e70-17a653ac221e",
   "metadata": {},
   "outputs": [],
   "source": [
    "client = OpenAI(base_url=\"https://api.deepseek.com/v1\")"
   ]
  },
  {
   "cell_type": "code",
   "execution_count": 14,
   "id": "07c24734-b4ad-49a0-95a7-defbb1fdd8ca",
   "metadata": {},
   "outputs": [
    {
     "data": {
      "text/plain": [
       "ChatCompletion(id='59c38a7d-5984-42ec-9c1e-f12190a67eb1', choices=[Choice(finish_reason='stop', index=0, logprobs=None, message=ChatCompletionMessage(content='Of course! This is a very common situation. The short answer is: **Yes, it is often possible to enroll after a course has started, but it depends entirely on the specific policies of the institution and the instructor.**\\n\\nHere’s a breakdown of what you need to consider and do immediately.\\n\\n### Factors That Determine if You Can Enroll\\n\\n1.  **Institutional Policy:** Colleges, universities, and online platforms have official deadlines. These are often called \"**Add/Drop Deadlines**\" or \"**Late Registration Periods**.\"\\n    *   There is usually a period at the very beginning of the term (e.g., the first week or two) where you can add a course with minimal penalty.\\n    *   After that, you may need special permission, often from the instructor or a dean.\\n\\n2.  **Instructor Permission:** This is the most critical factor after the official deadline has passed. The instructor will decide if you can catch up.\\n    *   They will consider: How much work have you missed? (Quizzes, assignments, lectures).\\n    *   Are you prepared to take responsibility for catching up on all missed material immediately?\\n\\n3.  **Course Capacity:** Is there still a physical or virtual seat available in the class?\\n\\n4.  **Type of Course:**\\n    *   **Self-Paced Online Course (like on Coursera or Udemy):** Almost always yes! You can enroll at any time and start from the beginning.\\n    *   **Cohort-Based Online Course (with live sessions and deadlines):** Similar to a university class; you\\'ll need to check with the organizers.\\n    *   **In-Person or Synchronous University Course:** This is where permission is most crucial.\\n\\n---\\n\\n### Your Action Plan: What to Do RIGHT NOW\\n\\nTime is of the essence. Follow these steps:\\n\\n1.  **Check the Official Deadlines:** Log into the institution\\'s student portal or website and look for the academic calendar. Find the \"**Last Day to Add a Course**\" or similar. This is your first stop.\\n\\n2.  **Contact the Instructor IMMEDIATELY:** This is the most important step, especially if the deadline has passed.\\n    *   **Find their email** on the institution\\'s website.\\n    *   **Write a professional and persuasive email.** Here’s a template you can adapt:\\n\\n    > **Subject:** Inquiry Regarding Late Enrollment in [Course Name and Code]\\n    >\\n    > Dear Professor/Dr. [Instructor\\'s Last Name],\\n    >\\n    > My name is [Your Name], and I am a [Your Year, e.g., sophomore] majoring in [Your Major]. I am very interested in enrolling in your [Course Name] course this semester.\\n    >\\n    > I understand that the course has already begun, and I have missed the first [Number] weeks. I have reviewed the syllabus online and am fully prepared to take responsibility for catching up on all missed lectures, readings, and assignments immediately and on my own time.\\n    >\\n    > I am very motivated to take this course because [give a brief, genuine reason, e.g., \"it aligns perfectly with my career interests in X\" or \"I\\'ve heard excellent things about your teaching\"].\\n    >\\n    > Would you be willing to grant me permission to enroll late? I have already checked, and there appears to be a seat available.\\n    >\\n    > Thank you for your time and consideration.\\n    >\\n    > Sincerely,\\n    > [Your Full Name]\\n    > [Student ID Number]\\n\\n3.  **Contact the Registrar\\'s Office or Department Advisor:** If you can\\'t reach the instructor or need to understand the formal process, contact the department that offers the course or the general registrar\\'s office. They can tell you the official procedure for a \"late add.\"\\n\\n4.  **Review the Syllabus:** Before you email or enroll, find the course syllabus online. This shows the instructor you are serious and allows you to understand exactly what you\\'ve missed.\\n\\n---\\n\\n### What to Be Prepared For\\n\\nIf you are granted permission:\\n\\n*   **You will be behind.** You must be ready to put in significant extra effort in the first week or two to catch up.\\n*   **You may have missed assignments.** The instructor may or may not allow you to make them up. Be prepared to accept a zero for any work that cannot be made up.\\n*   **You might be starting with a grade deficit.** This is a real possibility, so you need to be committed to performing very well on all future work.\\n\\n### Summary\\n\\n**Yes, you can likely still enroll, but you must act quickly and professionally.** Your success hinges on **communicating directly with the instructor** and demonstrating that you are a responsible and motivated student who understands the commitment required to catch up.\\n\\nGood luck', refusal=None, role='assistant', annotations=None, audio=None, function_call=None, tool_calls=None))], created=1759519645, model='deepseek-chat', object='chat.completion', service_tier=None, system_fingerprint='fp_ffc7281d48_prod0820_fp8_kvcache', usage=CompletionUsage(completion_tokens=988, prompt_tokens=15, total_tokens=1003, completion_tokens_details=None, prompt_tokens_details=PromptTokensDetails(audio_tokens=None, cached_tokens=0), prompt_cache_hit_tokens=0, prompt_cache_miss_tokens=15))"
      ]
     },
     "execution_count": 14,
     "metadata": {},
     "output_type": "execute_result"
    }
   ],
   "source": [
    "response = client.chat.completions.create(\n",
    "    model=\"deepseek-chat\",\n",
    "    messages=[\n",
    "        {\"role\": \"user\", \"content\": q}\n",
    "    ]\n",
    ")\n",
    "response"
   ]
  },
  {
   "cell_type": "code",
   "execution_count": 16,
   "id": "84ba896e-0211-46ff-a022-94f7df35cfc1",
   "metadata": {},
   "outputs": [
    {
     "data": {
      "text/plain": [
       "'Of course! This is a very common situation. The short answer is: **Yes, it is often possible to enroll after a course has started, but it depends entirely on the specific policies of the institution and the instructor.**\\n\\nHere’s a breakdown of what you need to consider and do immediately.\\n\\n### Factors That Determine if You Can Enroll\\n\\n1.  **Institutional Policy:** Colleges, universities, and online platforms have official deadlines. These are often called \"**Add/Drop Deadlines**\" or \"**Late Registration Periods**.\"\\n    *   There is usually a period at the very beginning of the term (e.g., the first week or two) where you can add a course with minimal penalty.\\n    *   After that, you may need special permission, often from the instructor or a dean.\\n\\n2.  **Instructor Permission:** This is the most critical factor after the official deadline has passed. The instructor will decide if you can catch up.\\n    *   They will consider: How much work have you missed? (Quizzes, assignments, lectures).\\n    *   Are you prepared to take responsibility for catching up on all missed material immediately?\\n\\n3.  **Course Capacity:** Is there still a physical or virtual seat available in the class?\\n\\n4.  **Type of Course:**\\n    *   **Self-Paced Online Course (like on Coursera or Udemy):** Almost always yes! You can enroll at any time and start from the beginning.\\n    *   **Cohort-Based Online Course (with live sessions and deadlines):** Similar to a university class; you\\'ll need to check with the organizers.\\n    *   **In-Person or Synchronous University Course:** This is where permission is most crucial.\\n\\n---\\n\\n### Your Action Plan: What to Do RIGHT NOW\\n\\nTime is of the essence. Follow these steps:\\n\\n1.  **Check the Official Deadlines:** Log into the institution\\'s student portal or website and look for the academic calendar. Find the \"**Last Day to Add a Course**\" or similar. This is your first stop.\\n\\n2.  **Contact the Instructor IMMEDIATELY:** This is the most important step, especially if the deadline has passed.\\n    *   **Find their email** on the institution\\'s website.\\n    *   **Write a professional and persuasive email.** Here’s a template you can adapt:\\n\\n    > **Subject:** Inquiry Regarding Late Enrollment in [Course Name and Code]\\n    >\\n    > Dear Professor/Dr. [Instructor\\'s Last Name],\\n    >\\n    > My name is [Your Name], and I am a [Your Year, e.g., sophomore] majoring in [Your Major]. I am very interested in enrolling in your [Course Name] course this semester.\\n    >\\n    > I understand that the course has already begun, and I have missed the first [Number] weeks. I have reviewed the syllabus online and am fully prepared to take responsibility for catching up on all missed lectures, readings, and assignments immediately and on my own time.\\n    >\\n    > I am very motivated to take this course because [give a brief, genuine reason, e.g., \"it aligns perfectly with my career interests in X\" or \"I\\'ve heard excellent things about your teaching\"].\\n    >\\n    > Would you be willing to grant me permission to enroll late? I have already checked, and there appears to be a seat available.\\n    >\\n    > Thank you for your time and consideration.\\n    >\\n    > Sincerely,\\n    > [Your Full Name]\\n    > [Student ID Number]\\n\\n3.  **Contact the Registrar\\'s Office or Department Advisor:** If you can\\'t reach the instructor or need to understand the formal process, contact the department that offers the course or the general registrar\\'s office. They can tell you the official procedure for a \"late add.\"\\n\\n4.  **Review the Syllabus:** Before you email or enroll, find the course syllabus online. This shows the instructor you are serious and allows you to understand exactly what you\\'ve missed.\\n\\n---\\n\\n### What to Be Prepared For\\n\\nIf you are granted permission:\\n\\n*   **You will be behind.** You must be ready to put in significant extra effort in the first week or two to catch up.\\n*   **You may have missed assignments.** The instructor may or may not allow you to make them up. Be prepared to accept a zero for any work that cannot be made up.\\n*   **You might be starting with a grade deficit.** This is a real possibility, so you need to be committed to performing very well on all future work.\\n\\n### Summary\\n\\n**Yes, you can likely still enroll, but you must act quickly and professionally.** Your success hinges on **communicating directly with the instructor** and demonstrating that you are a responsible and motivated student who understands the commitment required to catch up.\\n\\nGood luck'"
      ]
     },
     "execution_count": 16,
     "metadata": {},
     "output_type": "execute_result"
    }
   ],
   "source": [
    "response.choices[0].message.content # generic context from deepseek"
   ]
  },
  {
   "cell_type": "code",
   "execution_count": 24,
   "id": "04f6da64-698b-41ed-b6c3-10cfd9998cd3",
   "metadata": {},
   "outputs": [],
   "source": [
    "prompt_template = \"\"\"\n",
    "You're a course teaching assistant. Answer the QUESTION based on the CONTEXT. Use only the facts from the CONTEXT when answearing the question.\n",
    "if the CONTEXT doesn't contain teh answear, output NONE\n",
    "\n",
    "QUESTION: {question}\n",
    "\n",
    "CONTEXT: {context}\n",
    "\"\"\".strip()"
   ]
  },
  {
   "cell_type": "code",
   "execution_count": 30,
   "id": "3b681bf7-52ad-48de-af46-e99a5b6849e9",
   "metadata": {},
   "outputs": [],
   "source": [
    "context = \"\"\n",
    "for doc in index.search(query=q, filter_dict=filter_, boost_dict=boost, num_results=5):\n",
    "    context = context + f\"section: {doc['section']}\\nquestion: {doc['question']}\\nanswer: {doc['text']}\\n\\n\""
   ]
  },
  {
   "cell_type": "code",
   "execution_count": 31,
   "id": "96c92f2a-5e30-457b-a060-7983972eae7c",
   "metadata": {},
   "outputs": [],
   "source": [
    "prompt = prompt_template.format(question=q, context=context).strip()"
   ]
  },
  {
   "cell_type": "code",
   "execution_count": 32,
   "id": "cc6b2a14-2d3d-4fa7-a5a5-0512a39aa2f5",
   "metadata": {},
   "outputs": [
    {
     "name": "stdout",
     "output_type": "stream",
     "text": [
      "You're a course teaching assistant. Answer the QUESTION based on the CONTEXT. Use only the facts from the CONTEXT when answearing the question.\n",
      "if the CONTEXT doesn't contain teh answear, output NONE\n",
      "\n",
      "QUESTION: the course has already started, can I still enroll?\n",
      "\n",
      "CONTEXT: section: General course-related questions\n",
      "question: Course - Can I still join the course after the start date?\n",
      "answer: Yes, even if you don't register, you're still eligible to submit the homeworks.\n",
      "Be aware, however, that there will be deadlines for turning in the final projects. So don't leave everything for the last minute.\n",
      "\n",
      "section: General course-related questions\n",
      "question: Course - Can I follow the course after it finishes?\n",
      "answer: Yes, we will keep all the materials after the course finishes, so you can follow the course at your own pace after it finishes.\n",
      "You can also continue looking at the homeworks and continue preparing for the next cohort. I guess you can also start working on your final capstone project.\n",
      "\n",
      "section: General course-related questions\n",
      "question: Course - When will the course start?\n",
      "answer: The purpose of this document is to capture frequently asked technical questions\n",
      "The exact day and hour of the course will be 15th Jan 2024 at 17h00. The course will start with the first  “Office Hours'' live.1\n",
      "Subscribe to course public Google Calendar (it works from Desktop only).\n",
      "Register before the course starts using this link.\n",
      "Join the course Telegram channel with announcements.\n",
      "Don’t forget to register in DataTalks.Club's Slack and join the channel.\n",
      "\n",
      "section: General course-related questions\n",
      "question: Course - What can I do before the course starts?\n",
      "answer: You can start by installing and setting up all the dependencies and requirements:\n",
      "Google cloud account\n",
      "Google Cloud SDK\n",
      "Python 3 (installed with Anaconda)\n",
      "Terraform\n",
      "Git\n",
      "Look over the prerequisites and syllabus to see if you are comfortable with these subjects.\n",
      "\n",
      "section: General course-related questions\n",
      "question: Course - Can I get support if I take the course in the self-paced mode?\n",
      "answer: Yes, the slack channel remains open and you can ask questions there. But always sDocker containers exit code w search the channel first and second, check the FAQ (this document), most likely all your questions are already answered here.\n",
      "You can also tag the bot @ZoomcampQABot to help you conduct the search, but don’t rely on its answers 100%, it is pretty good though.\n"
     ]
    }
   ],
   "source": [
    "print(prompt)"
   ]
  },
  {
   "cell_type": "code",
   "execution_count": 33,
   "id": "fd2b65c0-8634-4ca6-8327-8d31f18a9d53",
   "metadata": {},
   "outputs": [
    {
     "data": {
      "text/plain": [
       "ChatCompletion(id='33ed3f4e-ce4b-437e-95b2-04b17a845233', choices=[Choice(finish_reason='stop', index=0, logprobs=None, message=ChatCompletionMessage(content='Yes, you can still enroll after the course has started. According to the context, you are still eligible to submit the homeworks even if you register after the start date. However, you should be aware of the deadlines for the final projects.', refusal=None, role='assistant', annotations=None, audio=None, function_call=None, tool_calls=None))], created=1759520861, model='deepseek-chat', object='chat.completion', service_tier=None, system_fingerprint='fp_ffc7281d48_prod0820_fp8_kvcache', usage=CompletionUsage(completion_tokens=49, prompt_tokens=525, total_tokens=574, completion_tokens_details=None, prompt_tokens_details=PromptTokensDetails(audio_tokens=None, cached_tokens=0), prompt_cache_hit_tokens=0, prompt_cache_miss_tokens=525))"
      ]
     },
     "execution_count": 33,
     "metadata": {},
     "output_type": "execute_result"
    }
   ],
   "source": [
    "response = client.chat.completions.create(\n",
    "    model=\"deepseek-chat\",\n",
    "    messages=[\n",
    "        {\"role\": \"user\", \"content\": prompt}\n",
    "    ]\n",
    ")\n",
    "response"
   ]
  },
  {
   "cell_type": "code",
   "execution_count": 35,
   "id": "2184d038-4dfe-4e4a-aed4-afb065f5ba06",
   "metadata": {},
   "outputs": [
    {
     "name": "stdout",
     "output_type": "stream",
     "text": [
      "Yes, you can still enroll after the course has started. According to the context, you are still eligible to submit the homeworks even if you register after the start date. However, you should be aware of the deadlines for the final projects.\n"
     ]
    }
   ],
   "source": [
    "for res in response.choices:\n",
    "    print(res.message.content)"
   ]
  },
  {
   "cell_type": "code",
   "execution_count": null,
   "id": "d05497e2-521a-4516-b296-6a521975a623",
   "metadata": {},
   "outputs": [],
   "source": []
  }
 ],
 "metadata": {
  "kernelspec": {
   "display_name": "Python 3 (ipykernel)",
   "language": "python",
   "name": "python3"
  },
  "language_info": {
   "codemirror_mode": {
    "name": "ipython",
    "version": 3
   },
   "file_extension": ".py",
   "mimetype": "text/x-python",
   "name": "python",
   "nbconvert_exporter": "python",
   "pygments_lexer": "ipython3",
   "version": "3.12.11"
  }
 },
 "nbformat": 4,
 "nbformat_minor": 5
}
