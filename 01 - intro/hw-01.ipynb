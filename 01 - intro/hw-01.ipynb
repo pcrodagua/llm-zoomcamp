{
 "cells": [
  {
   "cell_type": "code",
   "execution_count": 20,
   "id": "176254b1-94fe-47b4-a19e-1c6024d02a7a",
   "metadata": {},
   "outputs": [],
   "source": [
    "import openai\n",
    "from openai import OpenAI\n",
    "import sys, os"
   ]
  },
  {
   "cell_type": "code",
   "execution_count": 25,
   "id": "d85a0859-c53a-442f-84bb-49054a78b9d1",
   "metadata": {},
   "outputs": [],
   "source": [
    "OPENAI_API_KEY = os.environ[\"OPENAI_API_KEY\"]\n",
    "MODEL = \"gpt-4o-mini\""
   ]
  },
  {
   "cell_type": "code",
   "execution_count": 26,
   "id": "ce74f942-390d-4c78-87d1-a8429f144d84",
   "metadata": {},
   "outputs": [],
   "source": [
    "client = OpenAI(api_key=OPENAI_API_KEY)"
   ]
  },
  {
   "cell_type": "code",
   "execution_count": 30,
   "id": "f66eee5c-e293-4eca-b461-e4e7dd94a9f9",
   "metadata": {},
   "outputs": [],
   "source": [
    "response = client.chat.completions.create(\n",
    "    model=MODEL,\n",
    "    messages=[{\"role\": \"user\", \"content\": \"is it too late to join the course?\"}]\n",
    ")"
   ]
  },
  {
   "cell_type": "code",
   "execution_count": 31,
   "id": "0118fcc5-cf79-4525-a65e-85ef9c71da2c",
   "metadata": {},
   "outputs": [
    {
     "data": {
      "text/plain": [
       "\"Whether it's too late to join a course depends on several factors, such as the specific course's enrollment policies, deadlines, and whether classes have already started. If you’re interested in a particular course, I recommend checking the course website or contacting the course administrator for the most accurate information. They can provide details on late enrollment options and any requirements you may need to fulfill.\""
      ]
     },
     "execution_count": 31,
     "metadata": {},
     "output_type": "execute_result"
    }
   ],
   "source": [
    "response.choices[0].message.content"
   ]
  },
  {
   "cell_type": "code",
   "execution_count": null,
   "id": "2047f4b6-f2a2-4cb6-8e9b-5d74c44bfac8",
   "metadata": {},
   "outputs": [],
   "source": []
  }
 ],
 "metadata": {
  "kernelspec": {
   "display_name": "Python 3 (ipykernel)",
   "language": "python",
   "name": "python3"
  },
  "language_info": {
   "codemirror_mode": {
    "name": "ipython",
    "version": 3
   },
   "file_extension": ".py",
   "mimetype": "text/x-python",
   "name": "python",
   "nbconvert_exporter": "python",
   "pygments_lexer": "ipython3",
   "version": "3.12.1"
  }
 },
 "nbformat": 4,
 "nbformat_minor": 5
}
